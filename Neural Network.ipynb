{
 "cells": [
  {
   "cell_type": "code",
   "execution_count": 1,
   "metadata": {},
   "outputs": [],
   "source": [
    "seed=0\n",
    "import pandas as pd\n",
    "import seaborn as sns\n",
    "import numpy as np\n",
    "import warnings\n",
    "warnings.filterwarnings(\"ignore\")\n",
    "from matplotlib import pyplot as plt\n",
    "from sklearn.model_selection import train_test_split\n",
    "from numpy import random\n",
    "from sklearn.ensemble import RandomForestClassifier\n",
    "from sklearn.metrics import confusion_matrix\n",
    "from sklearn.feature_selection import RFECV\n",
    "from sklearn.tree import export_graphviz\n",
    "from sklearn import tree\n",
    "from sklearn.tree import DecisionTreeRegressor\n",
    "from sklearn.model_selection import cross_val_score\n",
    "import sklearn.metrics as metrics\n",
    "from sklearn.metrics import r2_score\n",
    "from sklearn.model_selection import GridSearchCV\n",
    "from sklearn.metrics import fbeta_score, make_scorer\n",
    "from sklearn.ensemble import RandomForestRegressor\n",
    "from pandasql import sqldf\n",
    "from sklearn.preprocessing import scale\n",
    "from pandas import DataFrame"
   ]
  },
  {
   "cell_type": "code",
   "execution_count": 2,
   "metadata": {},
   "outputs": [
    {
     "data": {
      "text/plain": [
       "(1599, 12)"
      ]
     },
     "execution_count": 2,
     "metadata": {},
     "output_type": "execute_result"
    }
   ],
   "source": [
    "df = pd.read_csv(r'winequality-red.csv')\n",
    "df.shape"
   ]
  },
  {
   "cell_type": "code",
   "execution_count": 3,
   "metadata": {},
   "outputs": [],
   "source": [
    "def plot_vars (x,y):\n",
    "\n",
    "    sns.barplot(data=df, x=x, y=y)"
   ]
  },
  {
   "cell_type": "code",
   "execution_count": 4,
   "metadata": {},
   "outputs": [
    {
     "data": {
      "image/png": "[encoded data removed]",
      "text/plain": [
       "<Figure size 1080x648 with 1 Axes>"
      ]
     },
     "metadata": {
      "needs_background": "light"
     },
     "output_type": "display_data"
    }
   ],
   "source": [
    "plt.figure(figsize = (15, 9))\n",
    "plot_vars ('quality','fixed acidity')"
   ]
  },
  {
   "cell_type": "code",
   "execution_count": 5,
   "metadata": {},
   "outputs": [],
   "source": [
    "df_n = DataFrame(scale(df), index=df.index, columns=df.columns)"
   ]
  },
  {
   "cell_type": "code",
   "execution_count": 6,
   "metadata": {},
   "outputs": [
    {
     "data": {
      "text/plain": [
       "['fixed acidity',\n",
       " 'volatile acidity',\n",
       " 'citric acid',\n",
       " 'residual sugar',\n",
       " 'chlorides',\n",
       " 'free sulfur dioxide',\n",
       " 'total sulfur dioxide',\n",
       " 'density',\n",
       " 'pH',\n",
       " 'sulphates',\n",
       " 'alcohol',\n",
       " 'quality']"
      ]
     },
     "execution_count": 6,
     "metadata": {},
     "output_type": "execute_result"
    }
   ],
   "source": [
    "list(df_n.columns)"
   ]
  },
  {
   "cell_type": "code",
   "execution_count": 7,
   "metadata": {},
   "outputs": [],
   "source": [
    "y=df_n[['quality']]\n",
    "X=df_n[['fixed acidity',\n",
    "'volatile acidity',\n",
    "'citric acid',\n",
    "'residual sugar',\n",
    "'chlorides',\n",
    "'free sulfur dioxide',\n",
    "'total sulfur dioxide',\n",
    "'density',\n",
    "'pH',\n",
    "'sulphates',\n",
    "'alcohol']]"
   ]
  },
  {
   "cell_type": "code",
   "execution_count": 8,
   "metadata": {},
   "outputs": [],
   "source": [
    "# treino e teste\n",
    "X_train, X_test, y_train, y_test = train_test_split(X, y, test_size=0.2, random_state=seed) #teste"
   ]
  },
  {
   "cell_type": "code",
   "execution_count": 9,
   "metadata": {},
   "outputs": [],
   "source": [
    "# transpose\n",
    "X_train = X_train.T\n",
    "X_test = X_test.T\n",
    "y_train = y_train.T\n",
    "y_test = y_test.T"
   ]
  },
  {
   "cell_type": "code",
   "execution_count": 11,
   "metadata": {},
   "outputs": [],
   "source": [
    "# arquitetura da rede\n",
    "def getLayerSize (X,y,hidden_neurons):\n",
    "    global n_x,n_h,n_y, size\n",
    "    n_x = X.shape[0]\n",
    "    n_h=hidden_neurons\n",
    "    n_y=y.shape[0]\n",
    "    size = {\n",
    "    \"n_x\": n_x,\n",
    "    \"n_h\": n_h,\n",
    "    \"n_y\": n_y,\n",
    "    }\n",
    "    return n_x,n_h,n_y, size\n",
    "\n",
    "\n",
    "def initializeParameters (X,layer_size):\n",
    "    global W1,W2,params\n",
    "    W1 = np.random.rand(n_h, n_x) * 0.01\n",
    "    W2 = np.random.rand(n_y, n_h) * 0.01\n",
    "    params = {\n",
    "    \"W1\": W1,\n",
    "    \"W2\": W2,\n",
    "    }\n",
    "    return W1,W2\n",
    "\n",
    "\n",
    "#funcao de ativacao\n",
    "\n",
    "def sigmoid (x):\n",
    "    return 1/(1 + np.exp(-x))\n",
    "\n",
    "\n",
    "\n",
    "#foward propagation\n",
    "\n",
    "def forwardPropagation (X,params,layer_size):\n",
    "    global Z1,A1,Z2,A2,cache\n",
    "    Z1=np.dot(W1,X)\n",
    "    A1=sigmoid(Z1)\n",
    "    Z2=np.dot(W2,A1)\n",
    "    A2=sigmoid(Z2)\n",
    "    cache = {\n",
    "    \"Z1\": Z1,\n",
    "    \"A1\": A1,\n",
    "    \"Z2\": Z2,\n",
    "    \"A2\": A2,\n",
    "    }\n",
    "    return Z1,A1,Z2,A2,cache\n",
    "\n",
    "\n",
    "# funcao de custo \n",
    "def computeCost(y,fwp_prop):\n",
    "    global cost\n",
    "    m = y.shape[1]\n",
    "    cost = np.sum((y - A2) ** 2) / m\n",
    "    return cost\n",
    "\n",
    "# backpropagation\n",
    "\n",
    "def backwardPropagation (X,y,forwardPropagation,params,layer_size):\n",
    "    global dZ2, dW2, dZ1, dW1, grads\n",
    "    m1 = X.shape[1]\n",
    "    dZ2 = A2 - y\n",
    "    dW2 = (1 / m1) * np.dot(dZ2, A1.T)\n",
    "\n",
    "    dZ1 = np.dot(W2.T, dZ2) * (1 - np.power(A1, 2))\n",
    "    dW1 = (1 / m1) * np.dot(dZ1, X.T)\n",
    "    grads = {\n",
    "    \"dW1\": dW1,\n",
    "    \"dW2\": dW2\n",
    "    }\n",
    "    return dZ2, dW2, dZ1, dW1, grads\n",
    "\n",
    "\n",
    "\n",
    "# alterar os pesos\n",
    "def updateParameters (grads,params,learning_rate):\n",
    "\n",
    "    global W1,W2,update_params\n",
    "    W1=W1-learning_rate*dW1\n",
    "    W2=W2-learning_rate*dW2\n",
    "\n",
    "    update_params = {\n",
    "    \"W1\": W1,\n",
    "    \"W2\": W2\n",
    "    }\n",
    "    return W1, W2,\n",
    "\n",
    "\n",
    "# treino\n",
    "cost_history=[]\n",
    "def trainModel (X,y,num_iteration,hidden_neurons,lr):\n",
    "    global model_out\n",
    "    layer_size = getLayerSize(X,y,hidden_neurons)\n",
    "    init_params=initializeParameters (X,layer_size)\n",
    "\n",
    "\n",
    "    for i in range(num_iteration):\n",
    "        fwd_prop=forwardPropagation (X,init_params,layer_size)\n",
    "        cost=computeCost(y,fwd_prop)\n",
    "        back_prop=backwardPropagation (X,y,fwd_prop,init_params,layer_size)\n",
    "        update_params=updateParameters (back_prop,init_params,learning_rate=lr)\n",
    "        init_params+=update_params\n",
    "        cost_history.append(cost)\n",
    "\n",
    "# model_out = {\n",
    "#         \"updated_params\": update_params,\n",
    "#         \"cost_hist\": cost_history\n",
    "# }\n",
    "\n",
    "\n"
   ]
  },
  {
   "cell_type": "code",
   "execution_count": 12,
   "metadata": {},
   "outputs": [],
   "source": [
    "EPOCHS = 10000\n",
    "HIDDEN_NEURONS = 40 #hidden layer\n",
    "LEARNING_RATE = 0.01\n",
    "\n",
    "train_model = trainModel(X_train, y_train, num_iteration=EPOCHS, hidden_neurons=HIDDEN_NEURONS, lr=LEARNING_RATE)\n",
    "# X_train, X_test, y_train, y_test"
   ]
  },
  {
   "cell_type": "code",
   "execution_count": 124,
   "metadata": {},
   "outputs": [],
   "source": [
    "layer_size = getLayerSize(X_test,y_test,HIDDEN_NEURONS)\n",
    "params=update_params\n",
    "fwd_prop=forwardPropagation (X_test,params,layer_size)\n",
    "y_pred=A2"
   ]
  },
  {
   "cell_type": "code",
   "execution_count": 128,
   "metadata": {},
   "outputs": [
    {
     "data": {
      "image/png": "[encoded data removed]",
      "text/plain": [
       "<Figure size 432x288 with 1 Axes>"
      ]
     },
     "metadata": {
      "needs_background": "light"
     },
     "output_type": "display_data"
    }
   ],
   "source": [
    "plt.plot(cost_history)\n",
    "plt.show()"
   ]
  },
  {
   "cell_type": "code",
   "execution_count": 155,
   "metadata": {},
   "outputs": [],
   "source": [
    "compare = np.vstack((y_pred, y_test))"
   ]
  },
  {
   "cell_type": "code",
   "execution_count": 157,
   "metadata": {},
   "outputs": [],
   "source": [
    "\n",
    "ypred1 = pd.DataFrame(compare.transpose(), columns = ['pred','r'])"
   ]
  },
  {
   "cell_type": "code",
   "execution_count": 160,
   "metadata": {},
   "outputs": [
    {
     "data": {
      "image/png": "[encoded data removed]",
      "text/plain": [
       "<Figure size 432x288 with 1 Axes>"
      ]
     },
     "metadata": {
      "needs_background": "light"
     },
     "output_type": "display_data"
    }
   ],
   "source": [
    "x = list(range(0, 320))\n",
    "\n",
    "plt.plot(x, ypred1.pred)\n",
    "plt.plot(x, ypred1.r)\n",
    "\n",
    "plt.xlabel(\"X-axis data\")\n",
    "plt.ylabel(\"Y-axis data\")\n",
    "plt.title('multiple plots')\n",
    "plt.show()"
   ]
  },
  {
   "cell_type": "code",
   "execution_count": null,
   "metadata": {},
   "outputs": [],
   "source": []
  },
  {
   "cell_type": "code",
   "execution_count": null,
   "metadata": {},
   "outputs": [],
   "source": []
  },
  {
   "cell_type": "markdown",
   "metadata": {},
   "source": [
    "## Other way"
   ]
  },
  {
   "cell_type": "code",
   "execution_count": 161,
   "metadata": {},
   "outputs": [],
   "source": [
    "class NeuralNetwork:\n",
    "    def __init__(self, learning_rate):\n",
    "        self.weights = np.array([np.random.randn(), np.random.randn()])\n",
    "        self.bias = np.random.randn()\n",
    "        self.learning_rate = learning_rate\n",
    "\n",
    "    def _sigmoid(self, x):\n",
    "        return 1 / (1 + np.exp(-x))\n",
    "\n",
    "    def _sigmoid_deriv(self, x):\n",
    "        return self._sigmoid(x) * (1 - self._sigmoid(x))\n",
    "\n",
    "    def predict(self, input_vector):\n",
    "        layer_1 = np.dot(input_vector, self.weights) + self.bias\n",
    "        layer_2 = self._sigmoid(layer_1)\n",
    "        prediction = layer_2\n",
    "        return prediction\n",
    "\n",
    "    def _compute_gradients(self, input_vector, target):\n",
    "        layer_1 = np.dot(input_vector, self.weights) + self.bias\n",
    "        layer_2 = self._sigmoid(layer_1)\n",
    "        prediction = layer_2\n",
    "\n",
    "        derror_dprediction = 2 * (prediction - target)\n",
    "        dprediction_dlayer1 = self._sigmoid_deriv(layer_1)\n",
    "        dlayer1_dbias = 1\n",
    "        dlayer1_dweights = (0 * self.weights) + (1 * input_vector)\n",
    "\n",
    "        derror_dbias = (\n",
    "            derror_dprediction * dprediction_dlayer1 * dlayer1_dbias\n",
    "        )\n",
    "        derror_dweights = (\n",
    "            derror_dprediction * dprediction_dlayer1 * dlayer1_dweights\n",
    "        )\n",
    "\n",
    "        return derror_dbias, derror_dweights\n",
    "\n",
    "    def _update_parameters(self, derror_dbias, derror_dweights):\n",
    "        self.bias = self.bias - (derror_dbias * self.learning_rate)\n",
    "        self.weights = self.weights - (\n",
    "            derror_dweights * self.learning_rate\n",
    "        )\n",
    "\n",
    "    def train(self, input_vectors, targets, iterations):\n",
    "        cumulative_errors = []\n",
    "        for current_iteration in range(iterations):\n",
    "            # Pick a data instance at random\n",
    "            random_data_index = np.random.randint(len(input_vectors))\n",
    "\n",
    "            input_vector = input_vectors[random_data_index]\n",
    "            target = targets[random_data_index]\n",
    "\n",
    "            # Compute the gradients and update the weights\n",
    "            derror_dbias, derror_dweights = self._compute_gradients(\n",
    "                input_vector, target\n",
    "            )\n",
    "\n",
    "            self._update_parameters(derror_dbias, derror_dweights)\n",
    "\n",
    "            # Measure the cumulative error for all the instances\n",
    "            if current_iteration % 100 == 0:\n",
    "                cumulative_error = 0\n",
    "                # Loop through all the instances to measure the error\n",
    "                for data_instance_index in range(len(input_vectors)):\n",
    "                    data_point = input_vectors[data_instance_index]\n",
    "                    target = targets[data_instance_index]\n",
    "\n",
    "                    prediction = self.predict(data_point)\n",
    "                    error = np.square(prediction - target)\n",
    "\n",
    "                    cumulative_error = cumulative_error + error\n",
    "                cumulative_errors.append(cumulative_error)\n",
    "\n",
    "        return cumulative_errors"
   ]
  },
  {
   "cell_type": "code",
   "execution_count": null,
   "metadata": {},
   "outputs": [],
   "source": [
    "# X_train, X_test, y_train, y_test"
   ]
  },
  {
   "cell_type": "code",
   "execution_count": 174,
   "metadata": {},
   "outputs": [
    {
     "ename": "KeyError",
     "evalue": "9",
     "output_type": "error",
     "traceback": [
      "\u001b[1;31m---------------------------------------------------------------------------\u001b[0m",
      "\u001b[1;31mKeyError\u001b[0m                                  Traceback (most recent call last)",
      "File \u001b[1;32mc:\\Python38\\SCG_64\\lib\\site-packages\\pandas\\core\\indexes\\base.py:3621\u001b[0m, in \u001b[0;36mIndex.get_loc\u001b[1;34m(self, key, method, tolerance)\u001b[0m\n\u001b[0;32m   3620\u001b[0m \u001b[39mtry\u001b[39;00m:\n\u001b[1;32m-> 3621\u001b[0m     \u001b[39mreturn\u001b[39;00m \u001b[39mself\u001b[39;49m\u001b[39m.\u001b[39;49m_engine\u001b[39m.\u001b[39;49mget_loc(casted_key)\n\u001b[0;32m   3622\u001b[0m \u001b[39mexcept\u001b[39;00m \u001b[39mKeyError\u001b[39;00m \u001b[39mas\u001b[39;00m err:\n",
      "File \u001b[1;32mc:\\Python38\\SCG_64\\lib\\site-packages\\pandas\\_libs\\index.pyx:136\u001b[0m, in \u001b[0;36mpandas._libs.index.IndexEngine.get_loc\u001b[1;34m()\u001b[0m\n",
      "File \u001b[1;32mc:\\Python38\\SCG_64\\lib\\site-packages\\pandas\\_libs\\index.pyx:163\u001b[0m, in \u001b[0;36mpandas._libs.index.IndexEngine.get_loc\u001b[1;34m()\u001b[0m\n",
      "File \u001b[1;32mpandas\\_libs\\hashtable_class_helper.pxi:2131\u001b[0m, in \u001b[0;36mpandas._libs.hashtable.Int64HashTable.get_item\u001b[1;34m()\u001b[0m\n",
      "File \u001b[1;32mpandas\\_libs\\hashtable_class_helper.pxi:2140\u001b[0m, in \u001b[0;36mpandas._libs.hashtable.Int64HashTable.get_item\u001b[1;34m()\u001b[0m\n",
      "\u001b[1;31mKeyError\u001b[0m: 9",
      "\nThe above exception was the direct cause of the following exception:\n",
      "\u001b[1;31mKeyError\u001b[0m                                  Traceback (most recent call last)",
      "\u001b[1;32mc:\\Users\\Pichau\\OneDrive\\VSC\\py\\winequality.ipynb Cell 22\u001b[0m in \u001b[0;36m<cell line: 12>\u001b[1;34m()\u001b[0m\n\u001b[0;32m     <a href='vscode-notebook-cell:/c%3A/Users/Pichau/OneDrive/VSC/py/winequality.ipynb#Y133sZmlsZQ%3D%3D?line=9'>10</a>\u001b[0m \u001b[39m# Treina rede\u001b[39;00m\n\u001b[0;32m     <a href='vscode-notebook-cell:/c%3A/Users/Pichau/OneDrive/VSC/py/winequality.ipynb#Y133sZmlsZQ%3D%3D?line=10'>11</a>\u001b[0m neural_network \u001b[39m=\u001b[39m NeuralNetwork(learning_rate)\n\u001b[1;32m---> <a href='vscode-notebook-cell:/c%3A/Users/Pichau/OneDrive/VSC/py/winequality.ipynb#Y133sZmlsZQ%3D%3D?line=11'>12</a>\u001b[0m training_error \u001b[39m=\u001b[39m neural_network\u001b[39m.\u001b[39;49mtrain(input_vectors, targets, \u001b[39m10000\u001b[39;49m)\n\u001b[0;32m     <a href='vscode-notebook-cell:/c%3A/Users/Pichau/OneDrive/VSC/py/winequality.ipynb#Y133sZmlsZQ%3D%3D?line=13'>14</a>\u001b[0m \u001b[39m# Visualiza resultados\u001b[39;00m\n\u001b[0;32m     <a href='vscode-notebook-cell:/c%3A/Users/Pichau/OneDrive/VSC/py/winequality.ipynb#Y133sZmlsZQ%3D%3D?line=14'>15</a>\u001b[0m plt\u001b[39m.\u001b[39mplot(training_error)\n",
      "\u001b[1;32mc:\\Users\\Pichau\\OneDrive\\VSC\\py\\winequality.ipynb Cell 22\u001b[0m in \u001b[0;36mNeuralNetwork.train\u001b[1;34m(self, input_vectors, targets, iterations)\u001b[0m\n\u001b[0;32m     <a href='vscode-notebook-cell:/c%3A/Users/Pichau/OneDrive/VSC/py/winequality.ipynb#Y133sZmlsZQ%3D%3D?line=47'>48</a>\u001b[0m random_data_index \u001b[39m=\u001b[39m np\u001b[39m.\u001b[39mrandom\u001b[39m.\u001b[39mrandint(\u001b[39mlen\u001b[39m(input_vectors))\n\u001b[0;32m     <a href='vscode-notebook-cell:/c%3A/Users/Pichau/OneDrive/VSC/py/winequality.ipynb#Y133sZmlsZQ%3D%3D?line=49'>50</a>\u001b[0m input_vector \u001b[39m=\u001b[39m input_vectors[random_data_index]\n\u001b[1;32m---> <a href='vscode-notebook-cell:/c%3A/Users/Pichau/OneDrive/VSC/py/winequality.ipynb#Y133sZmlsZQ%3D%3D?line=50'>51</a>\u001b[0m target \u001b[39m=\u001b[39m targets[random_data_index]\n\u001b[0;32m     <a href='vscode-notebook-cell:/c%3A/Users/Pichau/OneDrive/VSC/py/winequality.ipynb#Y133sZmlsZQ%3D%3D?line=52'>53</a>\u001b[0m \u001b[39m# Compute the gradients and update the weights\u001b[39;00m\n\u001b[0;32m     <a href='vscode-notebook-cell:/c%3A/Users/Pichau/OneDrive/VSC/py/winequality.ipynb#Y133sZmlsZQ%3D%3D?line=53'>54</a>\u001b[0m derror_dbias, derror_dweights \u001b[39m=\u001b[39m \u001b[39mself\u001b[39m\u001b[39m.\u001b[39m_compute_gradients(\n\u001b[0;32m     <a href='vscode-notebook-cell:/c%3A/Users/Pichau/OneDrive/VSC/py/winequality.ipynb#Y133sZmlsZQ%3D%3D?line=54'>55</a>\u001b[0m     input_vector, target\n\u001b[0;32m     <a href='vscode-notebook-cell:/c%3A/Users/Pichau/OneDrive/VSC/py/winequality.ipynb#Y133sZmlsZQ%3D%3D?line=55'>56</a>\u001b[0m )\n",
      "File \u001b[1;32mc:\\Python38\\SCG_64\\lib\\site-packages\\pandas\\core\\frame.py:3505\u001b[0m, in \u001b[0;36mDataFrame.__getitem__\u001b[1;34m(self, key)\u001b[0m\n\u001b[0;32m   3503\u001b[0m \u001b[39mif\u001b[39;00m \u001b[39mself\u001b[39m\u001b[39m.\u001b[39mcolumns\u001b[39m.\u001b[39mnlevels \u001b[39m>\u001b[39m \u001b[39m1\u001b[39m:\n\u001b[0;32m   3504\u001b[0m     \u001b[39mreturn\u001b[39;00m \u001b[39mself\u001b[39m\u001b[39m.\u001b[39m_getitem_multilevel(key)\n\u001b[1;32m-> 3505\u001b[0m indexer \u001b[39m=\u001b[39m \u001b[39mself\u001b[39;49m\u001b[39m.\u001b[39;49mcolumns\u001b[39m.\u001b[39;49mget_loc(key)\n\u001b[0;32m   3506\u001b[0m \u001b[39mif\u001b[39;00m is_integer(indexer):\n\u001b[0;32m   3507\u001b[0m     indexer \u001b[39m=\u001b[39m [indexer]\n",
      "File \u001b[1;32mc:\\Python38\\SCG_64\\lib\\site-packages\\pandas\\core\\indexes\\base.py:3623\u001b[0m, in \u001b[0;36mIndex.get_loc\u001b[1;34m(self, key, method, tolerance)\u001b[0m\n\u001b[0;32m   3621\u001b[0m     \u001b[39mreturn\u001b[39;00m \u001b[39mself\u001b[39m\u001b[39m.\u001b[39m_engine\u001b[39m.\u001b[39mget_loc(casted_key)\n\u001b[0;32m   3622\u001b[0m \u001b[39mexcept\u001b[39;00m \u001b[39mKeyError\u001b[39;00m \u001b[39mas\u001b[39;00m err:\n\u001b[1;32m-> 3623\u001b[0m     \u001b[39mraise\u001b[39;00m \u001b[39mKeyError\u001b[39;00m(key) \u001b[39mfrom\u001b[39;00m \u001b[39merr\u001b[39;00m\n\u001b[0;32m   3624\u001b[0m \u001b[39mexcept\u001b[39;00m \u001b[39mTypeError\u001b[39;00m:\n\u001b[0;32m   3625\u001b[0m     \u001b[39m# If we have a listlike key, _check_indexing_error will raise\u001b[39;00m\n\u001b[0;32m   3626\u001b[0m     \u001b[39m#  InvalidIndexError. Otherwise we fall through and re-raise\u001b[39;00m\n\u001b[0;32m   3627\u001b[0m     \u001b[39m#  the TypeError.\u001b[39;00m\n\u001b[0;32m   3628\u001b[0m     \u001b[39mself\u001b[39m\u001b[39m.\u001b[39m_check_indexing_error(key)\n",
      "\u001b[1;31mKeyError\u001b[0m: 9"
     ]
    }
   ],
   "source": [
    "input_vectors = X_test\n",
    "\n",
    "# Target\n",
    "targets = y_train\n",
    "\n",
    "\n",
    "# Parametros\n",
    "learning_rate = 0.1\n",
    "\n",
    "# Treina rede\n",
    "neural_network = NeuralNetwork(learning_rate)\n",
    "training_error = neural_network.train(input_vectors, targets, 10000)\n",
    "\n",
    "# Visualiza resultados\n",
    "plt.plot(training_error)\n",
    "plt.xlabel(\"Iterations\")\n",
    "plt.ylabel(\"Error for all training instances\")"
   ]
  }
 ],
 "metadata": {
  "interpreter": {
   "hash": "1cff25e70c1e57fad421e91c4365585c5e52e605a4ac474950021b51ee0f23f7"
  },
  "kernelspec": {
   "display_name": "Python 3.8.5 ('base')",
   "language": "python",
   "name": "python3"
  },
  "language_info": {
   "codemirror_mode": {
    "name": "ipython",
    "version": 3
   },
   "file_extension": ".py",
   "mimetype": "text/x-python",
   "name": "python",
   "nbconvert_exporter": "python",
   "pygments_lexer": "ipython3",
   "version": "3.8.5"
  }
 },
 "nbformat": 4,
 "nbformat_minor": 4
}
